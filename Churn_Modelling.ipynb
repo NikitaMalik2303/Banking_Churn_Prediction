{
  "nbformat": 4,
  "nbformat_minor": 0,
  "metadata": {
    "colab": {
      "provenance": [],
      "authorship_tag": "ABX9TyMrsVkeCDFAtX8osvfg3XeG",
      "include_colab_link": true
    },
    "kernelspec": {
      "name": "python3",
      "display_name": "Python 3"
    },
    "language_info": {
      "name": "python"
    }
  },
  "cells": [
    {
      "cell_type": "markdown",
      "metadata": {
        "id": "view-in-github",
        "colab_type": "text"
      },
      "source": [
        "<a href=\"https://colab.research.google.com/github/NikitaMalik2303/Banking_Churn_Prediction/blob/main/Churn_Modelling.ipynb\" target=\"_parent\"><img src=\"https://colab.research.google.com/assets/colab-badge.svg\" alt=\"Open In Colab\"/></a>"
      ]
    },
    {
      "cell_type": "code",
      "execution_count": 1,
      "metadata": {
        "id": "BMsPOjeu44LA"
      },
      "outputs": [],
      "source": [
        "import numpy as np\n",
        "import pandas as pd\n",
        "import tensorflow as tf\n",
        "import matplotlib.pyplot as plt"
      ]
    },
    {
      "cell_type": "code",
      "source": [
        "df = pd.read_csv(\"Churn_Modelling.csv\")"
      ],
      "metadata": {
        "id": "5RaXVz8Y5aQc"
      },
      "execution_count": 2,
      "outputs": []
    },
    {
      "cell_type": "code",
      "source": [
        "df.head()"
      ],
      "metadata": {
        "colab": {
          "base_uri": "https://localhost:8080/",
          "height": 270
        },
        "id": "KdJO7Zmk5vh1",
        "outputId": "06805035-8d1e-43a7-a2bd-d323870064e5"
      },
      "execution_count": 3,
      "outputs": [
        {
          "output_type": "execute_result",
          "data": {
            "text/plain": [
              "   RowNumber  CustomerId   Surname  CreditScore Geography  Gender  Age  \\\n",
              "0          1    15634602  Hargrave          619    France  Female   42   \n",
              "1          2    15647311      Hill          608     Spain  Female   41   \n",
              "2          3    15619304      Onio          502    France  Female   42   \n",
              "3          4    15701354      Boni          699    France  Female   39   \n",
              "4          5    15737888  Mitchell          850     Spain  Female   43   \n",
              "\n",
              "   Tenure    Balance  NumOfProducts  HasCrCard  IsActiveMember  \\\n",
              "0       2       0.00              1          1               1   \n",
              "1       1   83807.86              1          0               1   \n",
              "2       8  159660.80              3          1               0   \n",
              "3       1       0.00              2          0               0   \n",
              "4       2  125510.82              1          1               1   \n",
              "\n",
              "   EstimatedSalary  Exited  \n",
              "0        101348.88       1  \n",
              "1        112542.58       0  \n",
              "2        113931.57       1  \n",
              "3         93826.63       0  \n",
              "4         79084.10       0  "
            ],
            "text/html": [
              "\n",
              "  <div id=\"df-81507036-b20a-4552-b2c2-59fa16b1e488\">\n",
              "    <div class=\"colab-df-container\">\n",
              "      <div>\n",
              "<style scoped>\n",
              "    .dataframe tbody tr th:only-of-type {\n",
              "        vertical-align: middle;\n",
              "    }\n",
              "\n",
              "    .dataframe tbody tr th {\n",
              "        vertical-align: top;\n",
              "    }\n",
              "\n",
              "    .dataframe thead th {\n",
              "        text-align: right;\n",
              "    }\n",
              "</style>\n",
              "<table border=\"1\" class=\"dataframe\">\n",
              "  <thead>\n",
              "    <tr style=\"text-align: right;\">\n",
              "      <th></th>\n",
              "      <th>RowNumber</th>\n",
              "      <th>CustomerId</th>\n",
              "      <th>Surname</th>\n",
              "      <th>CreditScore</th>\n",
              "      <th>Geography</th>\n",
              "      <th>Gender</th>\n",
              "      <th>Age</th>\n",
              "      <th>Tenure</th>\n",
              "      <th>Balance</th>\n",
              "      <th>NumOfProducts</th>\n",
              "      <th>HasCrCard</th>\n",
              "      <th>IsActiveMember</th>\n",
              "      <th>EstimatedSalary</th>\n",
              "      <th>Exited</th>\n",
              "    </tr>\n",
              "  </thead>\n",
              "  <tbody>\n",
              "    <tr>\n",
              "      <th>0</th>\n",
              "      <td>1</td>\n",
              "      <td>15634602</td>\n",
              "      <td>Hargrave</td>\n",
              "      <td>619</td>\n",
              "      <td>France</td>\n",
              "      <td>Female</td>\n",
              "      <td>42</td>\n",
              "      <td>2</td>\n",
              "      <td>0.00</td>\n",
              "      <td>1</td>\n",
              "      <td>1</td>\n",
              "      <td>1</td>\n",
              "      <td>101348.88</td>\n",
              "      <td>1</td>\n",
              "    </tr>\n",
              "    <tr>\n",
              "      <th>1</th>\n",
              "      <td>2</td>\n",
              "      <td>15647311</td>\n",
              "      <td>Hill</td>\n",
              "      <td>608</td>\n",
              "      <td>Spain</td>\n",
              "      <td>Female</td>\n",
              "      <td>41</td>\n",
              "      <td>1</td>\n",
              "      <td>83807.86</td>\n",
              "      <td>1</td>\n",
              "      <td>0</td>\n",
              "      <td>1</td>\n",
              "      <td>112542.58</td>\n",
              "      <td>0</td>\n",
              "    </tr>\n",
              "    <tr>\n",
              "      <th>2</th>\n",
              "      <td>3</td>\n",
              "      <td>15619304</td>\n",
              "      <td>Onio</td>\n",
              "      <td>502</td>\n",
              "      <td>France</td>\n",
              "      <td>Female</td>\n",
              "      <td>42</td>\n",
              "      <td>8</td>\n",
              "      <td>159660.80</td>\n",
              "      <td>3</td>\n",
              "      <td>1</td>\n",
              "      <td>0</td>\n",
              "      <td>113931.57</td>\n",
              "      <td>1</td>\n",
              "    </tr>\n",
              "    <tr>\n",
              "      <th>3</th>\n",
              "      <td>4</td>\n",
              "      <td>15701354</td>\n",
              "      <td>Boni</td>\n",
              "      <td>699</td>\n",
              "      <td>France</td>\n",
              "      <td>Female</td>\n",
              "      <td>39</td>\n",
              "      <td>1</td>\n",
              "      <td>0.00</td>\n",
              "      <td>2</td>\n",
              "      <td>0</td>\n",
              "      <td>0</td>\n",
              "      <td>93826.63</td>\n",
              "      <td>0</td>\n",
              "    </tr>\n",
              "    <tr>\n",
              "      <th>4</th>\n",
              "      <td>5</td>\n",
              "      <td>15737888</td>\n",
              "      <td>Mitchell</td>\n",
              "      <td>850</td>\n",
              "      <td>Spain</td>\n",
              "      <td>Female</td>\n",
              "      <td>43</td>\n",
              "      <td>2</td>\n",
              "      <td>125510.82</td>\n",
              "      <td>1</td>\n",
              "      <td>1</td>\n",
              "      <td>1</td>\n",
              "      <td>79084.10</td>\n",
              "      <td>0</td>\n",
              "    </tr>\n",
              "  </tbody>\n",
              "</table>\n",
              "</div>\n",
              "      <button class=\"colab-df-convert\" onclick=\"convertToInteractive('df-81507036-b20a-4552-b2c2-59fa16b1e488')\"\n",
              "              title=\"Convert this dataframe to an interactive table.\"\n",
              "              style=\"display:none;\">\n",
              "        \n",
              "  <svg xmlns=\"http://www.w3.org/2000/svg\" height=\"24px\"viewBox=\"0 0 24 24\"\n",
              "       width=\"24px\">\n",
              "    <path d=\"M0 0h24v24H0V0z\" fill=\"none\"/>\n",
              "    <path d=\"M18.56 5.44l.94 2.06.94-2.06 2.06-.94-2.06-.94-.94-2.06-.94 2.06-2.06.94zm-11 1L8.5 8.5l.94-2.06 2.06-.94-2.06-.94L8.5 2.5l-.94 2.06-2.06.94zm10 10l.94 2.06.94-2.06 2.06-.94-2.06-.94-.94-2.06-.94 2.06-2.06.94z\"/><path d=\"M17.41 7.96l-1.37-1.37c-.4-.4-.92-.59-1.43-.59-.52 0-1.04.2-1.43.59L10.3 9.45l-7.72 7.72c-.78.78-.78 2.05 0 2.83L4 21.41c.39.39.9.59 1.41.59.51 0 1.02-.2 1.41-.59l7.78-7.78 2.81-2.81c.8-.78.8-2.07 0-2.86zM5.41 20L4 18.59l7.72-7.72 1.47 1.35L5.41 20z\"/>\n",
              "  </svg>\n",
              "      </button>\n",
              "      \n",
              "  <style>\n",
              "    .colab-df-container {\n",
              "      display:flex;\n",
              "      flex-wrap:wrap;\n",
              "      gap: 12px;\n",
              "    }\n",
              "\n",
              "    .colab-df-convert {\n",
              "      background-color: #E8F0FE;\n",
              "      border: none;\n",
              "      border-radius: 50%;\n",
              "      cursor: pointer;\n",
              "      display: none;\n",
              "      fill: #1967D2;\n",
              "      height: 32px;\n",
              "      padding: 0 0 0 0;\n",
              "      width: 32px;\n",
              "    }\n",
              "\n",
              "    .colab-df-convert:hover {\n",
              "      background-color: #E2EBFA;\n",
              "      box-shadow: 0px 1px 2px rgba(60, 64, 67, 0.3), 0px 1px 3px 1px rgba(60, 64, 67, 0.15);\n",
              "      fill: #174EA6;\n",
              "    }\n",
              "\n",
              "    [theme=dark] .colab-df-convert {\n",
              "      background-color: #3B4455;\n",
              "      fill: #D2E3FC;\n",
              "    }\n",
              "\n",
              "    [theme=dark] .colab-df-convert:hover {\n",
              "      background-color: #434B5C;\n",
              "      box-shadow: 0px 1px 3px 1px rgba(0, 0, 0, 0.15);\n",
              "      filter: drop-shadow(0px 1px 2px rgba(0, 0, 0, 0.3));\n",
              "      fill: #FFFFFF;\n",
              "    }\n",
              "  </style>\n",
              "\n",
              "      <script>\n",
              "        const buttonEl =\n",
              "          document.querySelector('#df-81507036-b20a-4552-b2c2-59fa16b1e488 button.colab-df-convert');\n",
              "        buttonEl.style.display =\n",
              "          google.colab.kernel.accessAllowed ? 'block' : 'none';\n",
              "\n",
              "        async function convertToInteractive(key) {\n",
              "          const element = document.querySelector('#df-81507036-b20a-4552-b2c2-59fa16b1e488');\n",
              "          const dataTable =\n",
              "            await google.colab.kernel.invokeFunction('convertToInteractive',\n",
              "                                                     [key], {});\n",
              "          if (!dataTable) return;\n",
              "\n",
              "          const docLinkHtml = 'Like what you see? Visit the ' +\n",
              "            '<a target=\"_blank\" href=https://colab.research.google.com/notebooks/data_table.ipynb>data table notebook</a>'\n",
              "            + ' to learn more about interactive tables.';\n",
              "          element.innerHTML = '';\n",
              "          dataTable['output_type'] = 'display_data';\n",
              "          await google.colab.output.renderOutput(dataTable, element);\n",
              "          const docLink = document.createElement('div');\n",
              "          docLink.innerHTML = docLinkHtml;\n",
              "          element.appendChild(docLink);\n",
              "        }\n",
              "      </script>\n",
              "    </div>\n",
              "  </div>\n",
              "  "
            ]
          },
          "metadata": {},
          "execution_count": 3
        }
      ]
    },
    {
      "cell_type": "code",
      "source": [
        "df.shape"
      ],
      "metadata": {
        "colab": {
          "base_uri": "https://localhost:8080/"
        },
        "id": "MoyMWdkD70o2",
        "outputId": "ed21f338-917d-4882-f22c-dd677e96f387"
      },
      "execution_count": 4,
      "outputs": [
        {
          "output_type": "execute_result",
          "data": {
            "text/plain": [
              "(10000, 14)"
            ]
          },
          "metadata": {},
          "execution_count": 4
        }
      ]
    },
    {
      "cell_type": "code",
      "source": [
        "df.isnull().sum()"
      ],
      "metadata": {
        "colab": {
          "base_uri": "https://localhost:8080/"
        },
        "id": "1Gt_LA8L6wYG",
        "outputId": "9474f2f4-9d68-47f1-ee6c-34d7926b2249"
      },
      "execution_count": 5,
      "outputs": [
        {
          "output_type": "execute_result",
          "data": {
            "text/plain": [
              "RowNumber          0\n",
              "CustomerId         0\n",
              "Surname            0\n",
              "CreditScore        0\n",
              "Geography          0\n",
              "Gender             0\n",
              "Age                0\n",
              "Tenure             0\n",
              "Balance            0\n",
              "NumOfProducts      0\n",
              "HasCrCard          0\n",
              "IsActiveMember     0\n",
              "EstimatedSalary    0\n",
              "Exited             0\n",
              "dtype: int64"
            ]
          },
          "metadata": {},
          "execution_count": 5
        }
      ]
    },
    {
      "cell_type": "code",
      "source": [
        "X = df.iloc[:,3:-1].values\n",
        "Y = df.iloc[:,-1].values"
      ],
      "metadata": {
        "id": "vjJAiIHH6Ys-"
      },
      "execution_count": 6,
      "outputs": []
    },
    {
      "cell_type": "code",
      "source": [
        "from sklearn.preprocessing import LabelEncoder\n",
        "le = LabelEncoder()\n",
        "X[:,2] = le.fit_transform(X[:,2])"
      ],
      "metadata": {
        "id": "tiUW4VxJ6h1K"
      },
      "execution_count": 7,
      "outputs": []
    },
    {
      "cell_type": "code",
      "source": [
        "from sklearn.compose import ColumnTransformer\n",
        "from sklearn.preprocessing import OneHotEncoder\n",
        "ct = ColumnTransformer(transformers = [(\"encoder\", OneHotEncoder(),[1])], remainder=\"passthrough\")\n",
        "X = np.array(ct.fit_transform(X))"
      ],
      "metadata": {
        "id": "ffHNftpa9NSk"
      },
      "execution_count": 8,
      "outputs": []
    },
    {
      "cell_type": "code",
      "source": [
        "print(X[:10,:])"
      ],
      "metadata": {
        "colab": {
          "base_uri": "https://localhost:8080/"
        },
        "id": "dIRpf5Lm9-mc",
        "outputId": "135543f1-663a-4dfc-802f-07b53b71f02b"
      },
      "execution_count": 9,
      "outputs": [
        {
          "output_type": "stream",
          "name": "stdout",
          "text": [
            "[[1.0 0.0 0.0 619 0 42 2 0.0 1 1 1 101348.88]\n",
            " [0.0 0.0 1.0 608 0 41 1 83807.86 1 0 1 112542.58]\n",
            " [1.0 0.0 0.0 502 0 42 8 159660.8 3 1 0 113931.57]\n",
            " [1.0 0.0 0.0 699 0 39 1 0.0 2 0 0 93826.63]\n",
            " [0.0 0.0 1.0 850 0 43 2 125510.82 1 1 1 79084.1]\n",
            " [0.0 0.0 1.0 645 1 44 8 113755.78 2 1 0 149756.71]\n",
            " [1.0 0.0 0.0 822 1 50 7 0.0 2 1 1 10062.8]\n",
            " [0.0 1.0 0.0 376 0 29 4 115046.74 4 1 0 119346.88]\n",
            " [1.0 0.0 0.0 501 1 44 4 142051.07 2 0 1 74940.5]\n",
            " [1.0 0.0 0.0 684 1 27 2 134603.88 1 1 1 71725.73]]\n"
          ]
        }
      ]
    },
    {
      "cell_type": "code",
      "source": [
        "from sklearn.model_selection import train_test_split\n",
        "X_train, X_test, Y_train, Y_test = train_test_split(X, Y, test_size=0.2, random_state=0)"
      ],
      "metadata": {
        "id": "XH2jzzy_-AxO"
      },
      "execution_count": 10,
      "outputs": []
    },
    {
      "cell_type": "code",
      "source": [
        "from sklearn.preprocessing import StandardScaler\n",
        "sc = StandardScaler()\n",
        "X_train = sc.fit_transform(X_train)\n",
        "X_test = sc.transform(X_test)"
      ],
      "metadata": {
        "id": "ons2h_j--qzX"
      },
      "execution_count": 11,
      "outputs": []
    },
    {
      "cell_type": "code",
      "source": [
        "ann = tf.keras.models.Sequential()\n",
        "ann.add(tf.keras.layers.Dense(units = 6, activation = \"relu\"))\n",
        "ann.add(tf.keras.layers.Dense(units = 6, activation = \"relu\"))\n",
        "ann.add(tf.keras.layers.Dense(units = 1, activation = \"sigmoid\"))"
      ],
      "metadata": {
        "id": "GNFGf0KQ_D_-"
      },
      "execution_count": 12,
      "outputs": []
    },
    {
      "cell_type": "code",
      "source": [
        "ann.compile(optimizer = \"adam\", loss = \"binary_crossentropy\", metrics = [\"accuracy\"])"
      ],
      "metadata": {
        "id": "rK6Axqq0F5Os"
      },
      "execution_count": 13,
      "outputs": []
    },
    {
      "cell_type": "code",
      "source": [
        "ann.fit(X_train,Y_train, batch_size = 32, epochs = 30)"
      ],
      "metadata": {
        "colab": {
          "base_uri": "https://localhost:8080/"
        },
        "id": "fbyILfzSGD5o",
        "outputId": "c0add8bb-c4b0-4e6e-8978-f255051063be"
      },
      "execution_count": 14,
      "outputs": [
        {
          "output_type": "stream",
          "name": "stdout",
          "text": [
            "Epoch 1/30\n",
            "250/250 [==============================] - 1s 2ms/step - loss: 0.5727 - accuracy: 0.7616\n",
            "Epoch 2/30\n",
            "250/250 [==============================] - 0s 2ms/step - loss: 0.4717 - accuracy: 0.7969\n",
            "Epoch 3/30\n",
            "250/250 [==============================] - 1s 3ms/step - loss: 0.4463 - accuracy: 0.8024\n",
            "Epoch 4/30\n",
            "250/250 [==============================] - 1s 4ms/step - loss: 0.4332 - accuracy: 0.8127\n",
            "Epoch 5/30\n",
            "250/250 [==============================] - 1s 4ms/step - loss: 0.4246 - accuracy: 0.8195\n",
            "Epoch 6/30\n",
            "250/250 [==============================] - 1s 4ms/step - loss: 0.4181 - accuracy: 0.8230\n",
            "Epoch 7/30\n",
            "250/250 [==============================] - 1s 3ms/step - loss: 0.4134 - accuracy: 0.8266\n",
            "Epoch 8/30\n",
            "250/250 [==============================] - 1s 4ms/step - loss: 0.4094 - accuracy: 0.8280\n",
            "Epoch 9/30\n",
            "250/250 [==============================] - 1s 3ms/step - loss: 0.4048 - accuracy: 0.8296\n",
            "Epoch 10/30\n",
            "250/250 [==============================] - 1s 4ms/step - loss: 0.3994 - accuracy: 0.8310\n",
            "Epoch 11/30\n",
            "250/250 [==============================] - 1s 4ms/step - loss: 0.3930 - accuracy: 0.8345\n",
            "Epoch 12/30\n",
            "250/250 [==============================] - 1s 4ms/step - loss: 0.3862 - accuracy: 0.8401\n",
            "Epoch 13/30\n",
            "250/250 [==============================] - 1s 4ms/step - loss: 0.3781 - accuracy: 0.8431\n",
            "Epoch 14/30\n",
            "250/250 [==============================] - 1s 3ms/step - loss: 0.3707 - accuracy: 0.8470\n",
            "Epoch 15/30\n",
            "250/250 [==============================] - 1s 4ms/step - loss: 0.3636 - accuracy: 0.8511\n",
            "Epoch 16/30\n",
            "250/250 [==============================] - 1s 4ms/step - loss: 0.3588 - accuracy: 0.8537\n",
            "Epoch 17/30\n",
            "250/250 [==============================] - 1s 5ms/step - loss: 0.3549 - accuracy: 0.8551\n",
            "Epoch 18/30\n",
            "250/250 [==============================] - 1s 5ms/step - loss: 0.3519 - accuracy: 0.8556\n",
            "Epoch 19/30\n",
            "250/250 [==============================] - 1s 5ms/step - loss: 0.3498 - accuracy: 0.8570\n",
            "Epoch 20/30\n",
            "250/250 [==============================] - 1s 3ms/step - loss: 0.3483 - accuracy: 0.8569\n",
            "Epoch 21/30\n",
            "250/250 [==============================] - 1s 2ms/step - loss: 0.3474 - accuracy: 0.8560\n",
            "Epoch 22/30\n",
            "250/250 [==============================] - 0s 2ms/step - loss: 0.3465 - accuracy: 0.8568\n",
            "Epoch 23/30\n",
            "250/250 [==============================] - 1s 2ms/step - loss: 0.3457 - accuracy: 0.8580\n",
            "Epoch 24/30\n",
            "250/250 [==============================] - 0s 2ms/step - loss: 0.3448 - accuracy: 0.8579\n",
            "Epoch 25/30\n",
            "250/250 [==============================] - 0s 2ms/step - loss: 0.3445 - accuracy: 0.8575\n",
            "Epoch 26/30\n",
            "250/250 [==============================] - 1s 2ms/step - loss: 0.3442 - accuracy: 0.8586\n",
            "Epoch 27/30\n",
            "250/250 [==============================] - 1s 2ms/step - loss: 0.3437 - accuracy: 0.8568\n",
            "Epoch 28/30\n",
            "250/250 [==============================] - 0s 2ms/step - loss: 0.3431 - accuracy: 0.8568\n",
            "Epoch 29/30\n",
            "250/250 [==============================] - 0s 2ms/step - loss: 0.3433 - accuracy: 0.8577\n",
            "Epoch 30/30\n",
            "250/250 [==============================] - 0s 2ms/step - loss: 0.3426 - accuracy: 0.8561\n"
          ]
        },
        {
          "output_type": "execute_result",
          "data": {
            "text/plain": [
              "<keras.callbacks.History at 0x7f98030514f0>"
            ]
          },
          "metadata": {},
          "execution_count": 14
        }
      ]
    },
    {
      "cell_type": "code",
      "source": [
        "Y_pred = ann.predict(X_test)\n",
        "Y_pred = (Y_pred>0.5)"
      ],
      "metadata": {
        "colab": {
          "base_uri": "https://localhost:8080/"
        },
        "id": "99sZQ0Y_I8rJ",
        "outputId": "f7f3774c-354a-43b4-a5f1-36a915f32a03"
      },
      "execution_count": 15,
      "outputs": [
        {
          "output_type": "stream",
          "name": "stdout",
          "text": [
            "63/63 [==============================] - 0s 2ms/step\n"
          ]
        }
      ]
    },
    {
      "cell_type": "code",
      "source": [
        "from sklearn.metrics import  confusion_matrix,accuracy_score\n",
        "cm = confusion_matrix(Y_test, Y_pred)\n",
        "print(cm)\n",
        "print(accuracy_score(Y_test, Y_pred))"
      ],
      "metadata": {
        "colab": {
          "base_uri": "https://localhost:8080/"
        },
        "id": "M8jccIDoGYRN",
        "outputId": "72ef0bca-db02-4b54-c61d-c754af37ab7b"
      },
      "execution_count": 16,
      "outputs": [
        {
          "output_type": "stream",
          "name": "stdout",
          "text": [
            "[[1524   71]\n",
            " [ 201  204]]\n",
            "0.864\n"
          ]
        }
      ]
    }
  ]
}